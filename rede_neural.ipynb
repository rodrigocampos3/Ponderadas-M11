{
  "nbformat": 4,
  "nbformat_minor": 0,
  "metadata": {
    "colab": {
      "provenance": [],
      "toc_visible": true
    },
    "kernelspec": {
      "name": "python3",
      "display_name": "Python 3"
    },
    "language_info": {
      "name": "python"
    }
  },
  "cells": [
    {
      "cell_type": "code",
      "execution_count": 1,
      "metadata": {
        "colab": {
          "base_uri": "https://localhost:8080/"
        },
        "id": "8UhUaWdQG-cF",
        "outputId": "5715b299-7132-422a-9bc0-c4b0151536f2"
      },
      "outputs": [
        {
          "output_type": "stream",
          "name": "stdout",
          "text": [
            "Collecting temporian\n",
            "  Downloading temporian-0.9.0-cp310-cp310-manylinux_2_17_x86_64.manylinux2014_x86_64.whl.metadata (8.0 kB)\n",
            "Requirement already satisfied: keras in /usr/local/lib/python3.10/dist-packages (3.4.1)\n",
            "Collecting keras\n",
            "  Downloading keras-3.5.0-py3-none-any.whl.metadata (5.8 kB)\n",
            "Requirement already satisfied: pandas in /usr/local/lib/python3.10/dist-packages (2.1.4)\n",
            "Collecting pandas\n",
            "  Downloading pandas-2.2.2-cp310-cp310-manylinux_2_17_x86_64.manylinux2014_x86_64.whl.metadata (19 kB)\n",
            "Collecting tf-nightly\n",
            "  Downloading tf_nightly-2.18.0.dev20240819-cp310-cp310-manylinux_2_17_x86_64.manylinux2014_x86_64.whl.metadata (4.2 kB)\n",
            "Requirement already satisfied: scikit-learn in /usr/local/lib/python3.10/dist-packages (1.3.2)\n",
            "Collecting scikit-learn\n",
            "  Downloading scikit_learn-1.5.1-cp310-cp310-manylinux_2_17_x86_64.manylinux2014_x86_64.whl.metadata (12 kB)\n",
            "Requirement already satisfied: absl-py<2.0.0,>=1.3.0 in /usr/local/lib/python3.10/dist-packages (from temporian) (1.4.0)\n",
            "Requirement already satisfied: matplotlib<4.0.0,>=3.7.1 in /usr/local/lib/python3.10/dist-packages (from temporian) (3.7.1)\n",
            "Requirement already satisfied: protobuf>=3.20.3 in /usr/local/lib/python3.10/dist-packages (from temporian) (3.20.3)\n",
            "Requirement already satisfied: numpy in /usr/local/lib/python3.10/dist-packages (from keras) (1.26.4)\n",
            "Requirement already satisfied: rich in /usr/local/lib/python3.10/dist-packages (from keras) (13.7.1)\n",
            "Requirement already satisfied: namex in /usr/local/lib/python3.10/dist-packages (from keras) (0.0.8)\n",
            "Requirement already satisfied: h5py in /usr/local/lib/python3.10/dist-packages (from keras) (3.11.0)\n",
            "Requirement already satisfied: optree in /usr/local/lib/python3.10/dist-packages (from keras) (0.12.1)\n",
            "Requirement already satisfied: ml-dtypes in /usr/local/lib/python3.10/dist-packages (from keras) (0.4.0)\n",
            "Requirement already satisfied: packaging in /usr/local/lib/python3.10/dist-packages (from keras) (24.1)\n",
            "Requirement already satisfied: python-dateutil>=2.8.2 in /usr/local/lib/python3.10/dist-packages (from pandas) (2.8.2)\n",
            "Requirement already satisfied: pytz>=2020.1 in /usr/local/lib/python3.10/dist-packages (from pandas) (2024.1)\n",
            "Requirement already satisfied: tzdata>=2022.7 in /usr/local/lib/python3.10/dist-packages (from pandas) (2024.1)\n",
            "Requirement already satisfied: astunparse>=1.6.0 in /usr/local/lib/python3.10/dist-packages (from tf-nightly) (1.6.3)\n",
            "Requirement already satisfied: flatbuffers>=24.3.25 in /usr/local/lib/python3.10/dist-packages (from tf-nightly) (24.3.25)\n",
            "Requirement already satisfied: gast!=0.5.0,!=0.5.1,!=0.5.2,>=0.2.1 in /usr/local/lib/python3.10/dist-packages (from tf-nightly) (0.6.0)\n",
            "Requirement already satisfied: google-pasta>=0.1.1 in /usr/local/lib/python3.10/dist-packages (from tf-nightly) (0.2.0)\n",
            "Requirement already satisfied: libclang>=13.0.0 in /usr/local/lib/python3.10/dist-packages (from tf-nightly) (18.1.1)\n",
            "Requirement already satisfied: opt-einsum>=2.3.2 in /usr/local/lib/python3.10/dist-packages (from tf-nightly) (3.3.0)\n",
            "Requirement already satisfied: requests<3,>=2.21.0 in /usr/local/lib/python3.10/dist-packages (from tf-nightly) (2.32.3)\n",
            "Requirement already satisfied: setuptools in /usr/local/lib/python3.10/dist-packages (from tf-nightly) (71.0.4)\n",
            "Requirement already satisfied: six>=1.12.0 in /usr/local/lib/python3.10/dist-packages (from tf-nightly) (1.16.0)\n",
            "Requirement already satisfied: termcolor>=1.1.0 in /usr/local/lib/python3.10/dist-packages (from tf-nightly) (2.4.0)\n",
            "Requirement already satisfied: typing-extensions>=3.6.6 in /usr/local/lib/python3.10/dist-packages (from tf-nightly) (4.12.2)\n",
            "Requirement already satisfied: wrapt>=1.11.0 in /usr/local/lib/python3.10/dist-packages (from tf-nightly) (1.16.0)\n",
            "Requirement already satisfied: grpcio<2.0,>=1.24.3 in /usr/local/lib/python3.10/dist-packages (from tf-nightly) (1.64.1)\n",
            "Collecting tb-nightly~=2.18.0.a (from tf-nightly)\n",
            "  Downloading tb_nightly-2.18.0a20240818-py3-none-any.whl.metadata (1.6 kB)\n",
            "Collecting keras-nightly>=3.2.0.dev (from tf-nightly)\n",
            "  Downloading keras_nightly-3.5.0.dev2024081903-py3-none-any.whl.metadata (5.8 kB)\n",
            "Requirement already satisfied: tensorflow-io-gcs-filesystem>=0.23.1 in /usr/local/lib/python3.10/dist-packages (from tf-nightly) (0.37.1)\n",
            "Requirement already satisfied: scipy>=1.6.0 in /usr/local/lib/python3.10/dist-packages (from scikit-learn) (1.13.1)\n",
            "Requirement already satisfied: joblib>=1.2.0 in /usr/local/lib/python3.10/dist-packages (from scikit-learn) (1.4.2)\n",
            "Requirement already satisfied: threadpoolctl>=3.1.0 in /usr/local/lib/python3.10/dist-packages (from scikit-learn) (3.5.0)\n",
            "Requirement already satisfied: wheel<1.0,>=0.23.0 in /usr/local/lib/python3.10/dist-packages (from astunparse>=1.6.0->tf-nightly) (0.44.0)\n",
            "Requirement already satisfied: contourpy>=1.0.1 in /usr/local/lib/python3.10/dist-packages (from matplotlib<4.0.0,>=3.7.1->temporian) (1.2.1)\n",
            "Requirement already satisfied: cycler>=0.10 in /usr/local/lib/python3.10/dist-packages (from matplotlib<4.0.0,>=3.7.1->temporian) (0.12.1)\n",
            "Requirement already satisfied: fonttools>=4.22.0 in /usr/local/lib/python3.10/dist-packages (from matplotlib<4.0.0,>=3.7.1->temporian) (4.53.1)\n",
            "Requirement already satisfied: kiwisolver>=1.0.1 in /usr/local/lib/python3.10/dist-packages (from matplotlib<4.0.0,>=3.7.1->temporian) (1.4.5)\n",
            "Requirement already satisfied: pillow>=6.2.0 in /usr/local/lib/python3.10/dist-packages (from matplotlib<4.0.0,>=3.7.1->temporian) (9.4.0)\n",
            "Requirement already satisfied: pyparsing>=2.3.1 in /usr/local/lib/python3.10/dist-packages (from matplotlib<4.0.0,>=3.7.1->temporian) (3.1.2)\n",
            "Requirement already satisfied: charset-normalizer<4,>=2 in /usr/local/lib/python3.10/dist-packages (from requests<3,>=2.21.0->tf-nightly) (3.3.2)\n",
            "Requirement already satisfied: idna<4,>=2.5 in /usr/local/lib/python3.10/dist-packages (from requests<3,>=2.21.0->tf-nightly) (3.7)\n",
            "Requirement already satisfied: urllib3<3,>=1.21.1 in /usr/local/lib/python3.10/dist-packages (from requests<3,>=2.21.0->tf-nightly) (2.0.7)\n",
            "Requirement already satisfied: certifi>=2017.4.17 in /usr/local/lib/python3.10/dist-packages (from requests<3,>=2.21.0->tf-nightly) (2024.7.4)\n",
            "Requirement already satisfied: markdown>=2.6.8 in /usr/local/lib/python3.10/dist-packages (from tb-nightly~=2.18.0.a->tf-nightly) (3.6)\n",
            "Requirement already satisfied: tensorboard-data-server<0.8.0,>=0.7.0 in /usr/local/lib/python3.10/dist-packages (from tb-nightly~=2.18.0.a->tf-nightly) (0.7.2)\n",
            "Requirement already satisfied: werkzeug>=1.0.1 in /usr/local/lib/python3.10/dist-packages (from tb-nightly~=2.18.0.a->tf-nightly) (3.0.3)\n",
            "Requirement already satisfied: markdown-it-py>=2.2.0 in /usr/local/lib/python3.10/dist-packages (from rich->keras) (3.0.0)\n",
            "Requirement already satisfied: pygments<3.0.0,>=2.13.0 in /usr/local/lib/python3.10/dist-packages (from rich->keras) (2.16.1)\n",
            "Requirement already satisfied: mdurl~=0.1 in /usr/local/lib/python3.10/dist-packages (from markdown-it-py>=2.2.0->rich->keras) (0.1.2)\n",
            "Requirement already satisfied: MarkupSafe>=2.1.1 in /usr/local/lib/python3.10/dist-packages (from werkzeug>=1.0.1->tb-nightly~=2.18.0.a->tf-nightly) (2.1.5)\n",
            "Downloading temporian-0.9.0-cp310-cp310-manylinux_2_17_x86_64.manylinux2014_x86_64.whl (760 kB)\n",
            "\u001b[2K   \u001b[90m━━━━━━━━━━━━━━━━━━━━━━━━━━━━━━━━━━━━━━━━\u001b[0m \u001b[32m760.6/760.6 kB\u001b[0m \u001b[31m4.3 MB/s\u001b[0m eta \u001b[36m0:00:00\u001b[0m\n",
            "\u001b[?25hDownloading keras-3.5.0-py3-none-any.whl (1.1 MB)\n",
            "\u001b[2K   \u001b[90m━━━━━━━━━━━━━━━━━━━━━━━━━━━━━━━━━━━━━━━━\u001b[0m \u001b[32m1.1/1.1 MB\u001b[0m \u001b[31m19.4 MB/s\u001b[0m eta \u001b[36m0:00:00\u001b[0m\n",
            "\u001b[?25hDownloading pandas-2.2.2-cp310-cp310-manylinux_2_17_x86_64.manylinux2014_x86_64.whl (13.0 MB)\n",
            "\u001b[2K   \u001b[90m━━━━━━━━━━━━━━━━━━━━━━━━━━━━━━━━━━━━━━━━\u001b[0m \u001b[32m13.0/13.0 MB\u001b[0m \u001b[31m54.7 MB/s\u001b[0m eta \u001b[36m0:00:00\u001b[0m\n",
            "\u001b[?25hDownloading tf_nightly-2.18.0.dev20240819-cp310-cp310-manylinux_2_17_x86_64.manylinux2014_x86_64.whl (603.6 MB)\n",
            "\u001b[2K   \u001b[90m━━━━━━━━━━━━━━━━━━━━━━━━━━━━━━━━━━━━━━━━\u001b[0m \u001b[32m603.6/603.6 MB\u001b[0m \u001b[31m3.3 MB/s\u001b[0m eta \u001b[36m0:00:00\u001b[0m\n",
            "\u001b[?25hDownloading scikit_learn-1.5.1-cp310-cp310-manylinux_2_17_x86_64.manylinux2014_x86_64.whl (13.4 MB)\n",
            "\u001b[2K   \u001b[90m━━━━━━━━━━━━━━━━━━━━━━━━━━━━━━━━━━━━━━━━\u001b[0m \u001b[32m13.4/13.4 MB\u001b[0m \u001b[31m42.0 MB/s\u001b[0m eta \u001b[36m0:00:00\u001b[0m\n",
            "\u001b[?25hDownloading keras_nightly-3.5.0.dev2024081903-py3-none-any.whl (1.1 MB)\n",
            "\u001b[2K   \u001b[90m━━━━━━━━━━━━━━━━━━━━━━━━━━━━━━━━━━━━━━━━\u001b[0m \u001b[32m1.1/1.1 MB\u001b[0m \u001b[31m31.7 MB/s\u001b[0m eta \u001b[36m0:00:00\u001b[0m\n",
            "\u001b[?25hDownloading tb_nightly-2.18.0a20240818-py3-none-any.whl (5.5 MB)\n",
            "\u001b[2K   \u001b[90m━━━━━━━━━━━━━━━━━━━━━━━━━━━━━━━━━━━━━━━━\u001b[0m \u001b[32m5.5/5.5 MB\u001b[0m \u001b[31m44.8 MB/s\u001b[0m eta \u001b[36m0:00:00\u001b[0m\n",
            "\u001b[?25hInstalling collected packages: tb-nightly, scikit-learn, pandas, temporian, keras-nightly, keras, tf-nightly\n",
            "  Attempting uninstall: scikit-learn\n",
            "    Found existing installation: scikit-learn 1.3.2\n",
            "    Uninstalling scikit-learn-1.3.2:\n",
            "      Successfully uninstalled scikit-learn-1.3.2\n",
            "  Attempting uninstall: pandas\n",
            "    Found existing installation: pandas 2.1.4\n",
            "    Uninstalling pandas-2.1.4:\n",
            "      Successfully uninstalled pandas-2.1.4\n",
            "  Attempting uninstall: keras\n",
            "    Found existing installation: keras 3.4.1\n",
            "    Uninstalling keras-3.4.1:\n",
            "      Successfully uninstalled keras-3.4.1\n",
            "\u001b[31mERROR: pip's dependency resolver does not currently take into account all the packages that are installed. This behaviour is the source of the following dependency conflicts.\n",
            "cudf-cu12 24.4.1 requires pandas<2.2.2dev0,>=2.0, but you have pandas 2.2.2 which is incompatible.\n",
            "google-colab 1.0.0 requires pandas==2.1.4, but you have pandas 2.2.2 which is incompatible.\u001b[0m\u001b[31m\n",
            "\u001b[0mSuccessfully installed keras-3.5.0 keras-nightly-3.5.0.dev2024081903 pandas-2.2.2 scikit-learn-1.5.1 tb-nightly-2.18.0a20240818 temporian-0.9.0 tf-nightly-2.18.0.dev20240819\n"
          ]
        }
      ],
      "source": [
        "pip install temporian keras pandas tf-nightly scikit-learn -U\n"
      ]
    },
    {
      "cell_type": "code",
      "source": [
        "import keras  # To train the Machine Learning model\n",
        "import temporian as tp  # To convert transactions into tabular data\n",
        "\n",
        "import numpy as np\n",
        "import os\n",
        "import pandas as pd\n",
        "import datetime\n",
        "import pandas as pd\n",
        "import numpy as np\n",
        "import seaborn as sns\n",
        "import matplotlib.pyplot as plt\n",
        "from sklearn.model_selection import train_test_split\n",
        "from sklearn.preprocessing import StandardScaler\n",
        "import math\n",
        "import tensorflow as tf\n",
        "from sklearn.metrics import RocCurveDisplay"
      ],
      "metadata": {
        "id": "wb64Mw25HBgp"
      },
      "execution_count": 7,
      "outputs": []
    },
    {
      "cell_type": "code",
      "source": [
        "from keras.models import Sequential\n",
        "from keras.layers import Dense, Input\n",
        "from keras.optimizers import Adam\n",
        "from keras.metrics import AUC\n",
        "from sklearn.metrics import f1_score"
      ],
      "metadata": {
        "id": "5eP6PkkPbl1W"
      },
      "execution_count": null,
      "outputs": []
    },
    {
      "cell_type": "code",
      "source": [
        "start_date = datetime.date(2018, 4, 1)\n",
        "end_date = datetime.date(2018, 9, 30)\n",
        "\n",
        "# Load the dataset as a Pandas dataframe.\n",
        "cache_path = \"fraud_detection_cache.csv\"\n",
        "if not os.path.exists(cache_path):\n",
        "    print(\"Download dataset\")\n",
        "    dataframes = []\n",
        "    num_files = (end_date - start_date).days\n",
        "    counter = 0\n",
        "    while start_date <= end_date:\n",
        "        if counter % (num_files // 10) == 0:\n",
        "            print(f\"[{100 * (counter+1) // num_files}%]\", end=\"\", flush=True)\n",
        "        print(\".\", end=\"\", flush=True)\n",
        "        url = f\"https://github.com/Fraud-Detection-Handbook/simulated-data-raw/raw/6e67dbd0a3bfe0d7ec33abc4bce5f37cd4ff0d6a/data/{start_date}.pkl\"\n",
        "        dataframes.append(pd.read_pickle(url))\n",
        "        start_date += datetime.timedelta(days=1)\n",
        "        counter += 1\n",
        "    print(\"done\", flush=True)\n",
        "    transactions_dataframe = pd.concat(dataframes)\n",
        "    transactions_dataframe.to_csv(cache_path, index=False)\n",
        "else:\n",
        "    print(\"Load dataset from cache\")\n",
        "    transactions_dataframe = pd.read_csv(\n",
        "        cache_path, dtype={\"CUSTOMER_ID\": bytes, \"TERMINAL_ID\": bytes}\n",
        "    )\n",
        "\n",
        "print(f\"Found {len(transactions_dataframe)} transactions\")"
      ],
      "metadata": {
        "colab": {
          "base_uri": "https://localhost:8080/"
        },
        "id": "9EkC8HTMHasZ",
        "outputId": "4659b667-ed6e-454c-8fe5-0789a264b1e0"
      },
      "execution_count": 3,
      "outputs": [
        {
          "output_type": "stream",
          "name": "stdout",
          "text": [
            "Download dataset\n",
            "[0%]..................[10%]..................[20%]..................[30%]..................[40%]..................[50%]..................[59%]..................[69%]..................[79%]..................[89%]..................[99%]...done\n",
            "Found 1754155 transactions\n"
          ]
        }
      ]
    },
    {
      "cell_type": "code",
      "source": [
        "# Verificando valores ausentes\n",
        "print(transactions_dataframe.isnull().sum())\n"
      ],
      "metadata": {
        "colab": {
          "base_uri": "https://localhost:8080/"
        },
        "id": "e8XnoKGcIYOA",
        "outputId": "fe53c7f0-58b7-4460-edc0-83dc53125917"
      },
      "execution_count": 5,
      "outputs": [
        {
          "output_type": "stream",
          "name": "stdout",
          "text": [
            "TRANSACTION_ID       0\n",
            "TX_DATETIME          0\n",
            "CUSTOMER_ID          0\n",
            "TERMINAL_ID          0\n",
            "TX_AMOUNT            0\n",
            "TX_TIME_SECONDS      0\n",
            "TX_TIME_DAYS         0\n",
            "TX_FRAUD             0\n",
            "TX_FRAUD_SCENARIO    0\n",
            "dtype: int64\n"
          ]
        }
      ]
    },
    {
      "cell_type": "code",
      "source": [
        "# Analisando a distribuição de fraudes\n",
        "sns.countplot(x='TX_FRAUD', data=transactions_dataframe)\n",
        "plt.title('Distribuição de Fraudes')\n",
        "plt.show()\n"
      ],
      "metadata": {
        "colab": {
          "base_uri": "https://localhost:8080/",
          "height": 472
        },
        "id": "GzqhAeZgI1Wk",
        "outputId": "b7b388c6-a3d3-46d1-8b2b-67c47520b781"
      },
      "execution_count": 8,
      "outputs": [
        {
          "output_type": "display_data",
          "data": {
            "text/plain": [
              "<Figure size 640x480 with 1 Axes>"
            ],
            "image/png": "[encoded data removed]"
          },
          "metadata": {}
        }
      ]
    },
    {
      "cell_type": "code",
      "source": [
        "# Removendo colunas irrelevantes para a classificação\n",
        "transactions_dataframe = transactions_dataframe.drop(columns=['TRANSACTION_ID', 'TX_DATETIME', 'TX_FRAUD_SCENARIO'])"
      ],
      "metadata": {
        "id": "9qjoT0HCJMmd"
      },
      "execution_count": 9,
      "outputs": []
    },
    {
      "cell_type": "code",
      "source": [
        "# Separando as features (X) e o rótulo (y)\n",
        "X = transactions_dataframe.drop(columns=['TX_FRAUD'])\n",
        "y = transactions_dataframe['TX_FRAUD']"
      ],
      "metadata": {
        "id": "RmRR4nF5JQUI"
      },
      "execution_count": 10,
      "outputs": []
    },
    {
      "cell_type": "code",
      "source": [
        "X_train, X_test, y_train, y_test = train_test_split(X, y, test_size=0.3, random_state=42, stratify=y)\n"
      ],
      "metadata": {
        "id": "Tyj-S76LJTjo"
      },
      "execution_count": 11,
      "outputs": []
    },
    {
      "cell_type": "code",
      "source": [
        "# Visualização das features padronizadas\n",
        "print(\"X_train shape:\", X_train.shape)\n",
        "print(\"X_test shape:\", X_test.shape)\n",
        "print(\"y_train distribution:\", np.bincount(y_train))\n",
        "print(\"y_test distribution:\", np.bincount(y_test))"
      ],
      "metadata": {
        "colab": {
          "base_uri": "https://localhost:8080/"
        },
        "id": "PncVXDRQKABX",
        "outputId": "7448f0c9-45c2-43ec-ee6c-115189ffe325"
      },
      "execution_count": 12,
      "outputs": [
        {
          "output_type": "stream",
          "name": "stdout",
          "text": [
            "X_train shape: (1227908, 5)\n",
            "X_test shape: (526247, 5)\n",
            "y_train distribution: [1217631   10277]\n",
            "y_test distribution: [521843   4404]\n"
          ]
        }
      ]
    },
    {
      "cell_type": "code",
      "source": [
        "\n",
        "\n",
        "# Criando o modelo sequencial\n",
        "model = Sequential()\n",
        "\n",
        "# Definindo a camada de entrada explicitamente\n",
        "model.add(Input(shape=(X_train.shape[1],)))\n",
        "model.add(Dense(1, activation='sigmoid'))\n",
        "\n",
        "# Compilando o modelo\n",
        "model.compile(optimizer=Adam(), loss='binary_crossentropy', metrics=['accuracy'])\n",
        "\n",
        "# Treinando o modelo\n",
        "history = model.fit(X_train, y_train, epochs=50, batch_size=10, validation_data=(X_test, y_test))\n",
        "\n",
        "# Prevendo os rótulos do conjunto de teste\n",
        "y_pred_prob = model.predict(X_test)\n",
        "y_pred = (y_pred_prob > 0.5).astype(int)\n",
        "\n",
        "# Calculando a acurácia e F1-Score\n",
        "accuracy = (y_pred == y_test).mean()\n",
        "f1 = f1_score(y_test, y_pred)\n",
        "\n",
        "print(f'Accuracy: {accuracy}')\n",
        "print(f'F1-Score: {f1}')\n"
      ],
      "metadata": {
        "colab": {
          "base_uri": "https://localhost:8080/"
        },
        "id": "Fz69Ys73KV8l",
        "outputId": "5b99820e-1239-4cc3-e601-6f48243bbc54"
      },
      "execution_count": null,
      "outputs": [
        {
          "output_type": "stream",
          "name": "stdout",
          "text": [
            "Epoch 1/50\n",
            "\u001b[1m122791/122791\u001b[0m \u001b[32m━━━━━━━━━━━━━━━━━━━━\u001b[0m\u001b[37m\u001b[0m \u001b[1m261s\u001b[0m 2ms/step - accuracy: 0.9688 - loss: 15968.3994 - val_accuracy: 0.9901 - val_loss: 91.3845\n",
            "Epoch 2/50\n",
            "\u001b[1m122791/122791\u001b[0m \u001b[32m━━━━━━━━━━━━━━━━━━━━\u001b[0m\u001b[37m\u001b[0m \u001b[1m248s\u001b[0m 2ms/step - accuracy: 0.9813 - loss: 231.7266 - val_accuracy: 0.9906 - val_loss: 193.9798\n",
            "Epoch 3/50\n",
            "\u001b[1m122791/122791\u001b[0m \u001b[32m━━━━━━━━━━━━━━━━━━━━\u001b[0m\u001b[37m\u001b[0m \u001b[1m285s\u001b[0m 2ms/step - accuracy: 0.9814 - loss: 218.7955 - val_accuracy: 0.9908 - val_loss: 284.0656\n",
            "Epoch 4/50\n",
            "\u001b[1m122791/122791\u001b[0m \u001b[32m━━━━━━━━━━━━━━━━━━━━\u001b[0m\u001b[37m\u001b[0m \u001b[1m292s\u001b[0m 2ms/step - accuracy: 0.9809 - loss: 215.8195 - val_accuracy: 0.9894 - val_loss: 130.5563\n",
            "Epoch 5/50\n",
            "\u001b[1m122791/122791\u001b[0m \u001b[32m━━━━━━━━━━━━━━━━━━━━\u001b[0m\u001b[37m\u001b[0m \u001b[1m261s\u001b[0m 2ms/step - accuracy: 0.9811 - loss: 218.2863 - val_accuracy: 0.9834 - val_loss: 32.6866\n",
            "Epoch 6/50\n",
            "\u001b[1m122791/122791\u001b[0m \u001b[32m━━━━━━━━━━━━━━━━━━━━\u001b[0m\u001b[37m\u001b[0m \u001b[1m269s\u001b[0m 2ms/step - accuracy: 0.9810 - loss: 210.9018 - val_accuracy: 0.9897 - val_loss: 126.4168\n",
            "Epoch 7/50\n",
            "\u001b[1m122791/122791\u001b[0m \u001b[32m━━━━━━━━━━━━━━━━━━━━\u001b[0m\u001b[37m\u001b[0m \u001b[1m249s\u001b[0m 2ms/step - accuracy: 0.9811 - loss: 219.5260 - val_accuracy: 0.9903 - val_loss: 139.6522\n",
            "Epoch 8/50\n",
            "\u001b[1m122791/122791\u001b[0m \u001b[32m━━━━━━━━━━━━━━━━━━━━\u001b[0m\u001b[37m\u001b[0m \u001b[1m307s\u001b[0m 2ms/step - accuracy: 0.9810 - loss: 217.4892 - val_accuracy: 0.9872 - val_loss: 72.5376\n",
            "Epoch 9/50\n",
            "\u001b[1m122791/122791\u001b[0m \u001b[32m━━━━━━━━━━━━━━━━━━━━\u001b[0m\u001b[37m\u001b[0m \u001b[1m253s\u001b[0m 2ms/step - accuracy: 0.9811 - loss: 215.8091 - val_accuracy: 0.9890 - val_loss: 96.0257\n",
            "Epoch 10/50\n",
            "\u001b[1m122791/122791\u001b[0m \u001b[32m━━━━━━━━━━━━━━━━━━━━\u001b[0m\u001b[37m\u001b[0m \u001b[1m269s\u001b[0m 2ms/step - accuracy: 0.9811 - loss: 218.1884 - val_accuracy: 0.9912 - val_loss: 569.6244\n",
            "Epoch 11/50\n",
            "\u001b[1m122791/122791\u001b[0m \u001b[32m━━━━━━━━━━━━━━━━━━━━\u001b[0m\u001b[37m\u001b[0m \u001b[1m258s\u001b[0m 2ms/step - accuracy: 0.9812 - loss: 219.1819 - val_accuracy: 0.9910 - val_loss: 345.0812\n",
            "Epoch 12/50\n",
            "\u001b[1m122791/122791\u001b[0m \u001b[32m━━━━━━━━━━━━━━━━━━━━\u001b[0m\u001b[37m\u001b[0m \u001b[1m242s\u001b[0m 2ms/step - accuracy: 0.9810 - loss: 215.9083 - val_accuracy: 0.9905 - val_loss: 197.1679\n",
            "Epoch 13/50\n",
            "\u001b[1m122791/122791\u001b[0m \u001b[32m━━━━━━━━━━━━━━━━━━━━\u001b[0m\u001b[37m\u001b[0m \u001b[1m242s\u001b[0m 2ms/step - accuracy: 0.9812 - loss: 216.3049 - val_accuracy: 0.9898 - val_loss: 108.8413\n",
            "Epoch 14/50\n",
            "\u001b[1m122791/122791\u001b[0m \u001b[32m━━━━━━━━━━━━━━━━━━━━\u001b[0m\u001b[37m\u001b[0m \u001b[1m240s\u001b[0m 2ms/step - accuracy: 0.9815 - loss: 214.8340 - val_accuracy: 0.9913 - val_loss: 681.0977\n",
            "Epoch 15/50\n",
            "\u001b[1m122791/122791\u001b[0m \u001b[32m━━━━━━━━━━━━━━━━━━━━\u001b[0m\u001b[37m\u001b[0m \u001b[1m280s\u001b[0m 2ms/step - accuracy: 0.9815 - loss: 215.3886 - val_accuracy: 0.9912 - val_loss: 464.0814\n",
            "Epoch 16/50\n",
            "\u001b[1m122791/122791\u001b[0m \u001b[32m━━━━━━━━━━━━━━━━━━━━\u001b[0m\u001b[37m\u001b[0m \u001b[1m251s\u001b[0m 2ms/step - accuracy: 0.9815 - loss: 218.1048 - val_accuracy: 0.9906 - val_loss: 207.9517\n",
            "Epoch 17/50\n",
            "\u001b[1m122791/122791\u001b[0m \u001b[32m━━━━━━━━━━━━━━━━━━━━\u001b[0m\u001b[37m\u001b[0m \u001b[1m257s\u001b[0m 2ms/step - accuracy: 0.9810 - loss: 215.0234 - val_accuracy: 0.9913 - val_loss: 649.2538\n",
            "Epoch 18/50\n",
            "\u001b[1m122791/122791\u001b[0m \u001b[32m━━━━━━━━━━━━━━━━━━━━\u001b[0m\u001b[37m\u001b[0m \u001b[1m286s\u001b[0m 2ms/step - accuracy: 0.9811 - loss: 213.6919 - val_accuracy: 0.9896 - val_loss: 100.7200\n",
            "Epoch 19/50\n",
            "\u001b[1m122791/122791\u001b[0m \u001b[32m━━━━━━━━━━━━━━━━━━━━\u001b[0m\u001b[37m\u001b[0m \u001b[1m246s\u001b[0m 2ms/step - accuracy: 0.9810 - loss: 215.3695 - val_accuracy: 0.9899 - val_loss: 132.9971\n",
            "Epoch 20/50\n",
            "\u001b[1m122791/122791\u001b[0m \u001b[32m━━━━━━━━━━━━━━━━━━━━\u001b[0m\u001b[37m\u001b[0m \u001b[1m273s\u001b[0m 2ms/step - accuracy: 0.9811 - loss: 212.0236 - val_accuracy: 0.9894 - val_loss: 111.1145\n",
            "Epoch 21/50\n",
            "\u001b[1m122791/122791\u001b[0m \u001b[32m━━━━━━━━━━━━━━━━━━━━\u001b[0m\u001b[37m\u001b[0m \u001b[1m272s\u001b[0m 2ms/step - accuracy: 0.9815 - loss: 216.9654 - val_accuracy: 0.9884 - val_loss: 74.0984\n",
            "Epoch 22/50\n",
            "\u001b[1m122791/122791\u001b[0m \u001b[32m━━━━━━━━━━━━━━━━━━━━\u001b[0m\u001b[37m\u001b[0m \u001b[1m299s\u001b[0m 2ms/step - accuracy: 0.9813 - loss: 213.3703 - val_accuracy: 0.9910 - val_loss: 354.5744\n",
            "Epoch 23/50\n",
            "\u001b[1m122791/122791\u001b[0m \u001b[32m━━━━━━━━━━━━━━━━━━━━\u001b[0m\u001b[37m\u001b[0m \u001b[1m274s\u001b[0m 2ms/step - accuracy: 0.9815 - loss: 220.0058 - val_accuracy: 0.9915 - val_loss: 818.1611\n",
            "Epoch 24/50\n",
            "\u001b[1m122791/122791\u001b[0m \u001b[32m━━━━━━━━━━━━━━━━━━━━\u001b[0m\u001b[37m\u001b[0m \u001b[1m322s\u001b[0m 2ms/step - accuracy: 0.9813 - loss: 216.4668 - val_accuracy: 0.9911 - val_loss: 458.7819\n",
            "Epoch 25/50\n",
            "\u001b[1m122791/122791\u001b[0m \u001b[32m━━━━━━━━━━━━━━━━━━━━\u001b[0m\u001b[37m\u001b[0m \u001b[1m298s\u001b[0m 2ms/step - accuracy: 0.9810 - loss: 217.0740 - val_accuracy: 0.9849 - val_loss: 32.8310\n",
            "Epoch 26/50\n",
            "\u001b[1m122791/122791\u001b[0m \u001b[32m━━━━━━━━━━━━━━━━━━━━\u001b[0m\u001b[37m\u001b[0m \u001b[1m289s\u001b[0m 2ms/step - accuracy: 0.9814 - loss: 215.2504 - val_accuracy: 0.9700 - val_loss: 17.3187\n",
            "Epoch 27/50\n",
            "\u001b[1m122791/122791\u001b[0m \u001b[32m━━━━━━━━━━━━━━━━━━━━\u001b[0m\u001b[37m\u001b[0m \u001b[1m301s\u001b[0m 2ms/step - accuracy: 0.9813 - loss: 214.7100 - val_accuracy: 0.9894 - val_loss: 99.4893\n",
            "Epoch 28/50\n",
            "\u001b[1m122791/122791\u001b[0m \u001b[32m━━━━━━━━━━━━━━━━━━━━\u001b[0m\u001b[37m\u001b[0m \u001b[1m246s\u001b[0m 2ms/step - accuracy: 0.9811 - loss: 217.0765 - val_accuracy: 0.9872 - val_loss: 44.6966\n",
            "Epoch 29/50\n",
            "\u001b[1m122791/122791\u001b[0m \u001b[32m━━━━━━━━━━━━━━━━━━━━\u001b[0m\u001b[37m\u001b[0m \u001b[1m257s\u001b[0m 2ms/step - accuracy: 0.9814 - loss: 212.0109 - val_accuracy: 0.9908 - val_loss: 210.9238\n",
            "Epoch 30/50\n",
            "\u001b[1m122791/122791\u001b[0m \u001b[32m━━━━━━━━━━━━━━━━━━━━\u001b[0m\u001b[37m\u001b[0m \u001b[1m279s\u001b[0m 2ms/step - accuracy: 0.9814 - loss: 212.0649 - val_accuracy: 0.9912 - val_loss: 407.1563\n",
            "Epoch 31/50\n",
            "\u001b[1m122791/122791\u001b[0m \u001b[32m━━━━━━━━━━━━━━━━━━━━\u001b[0m\u001b[37m\u001b[0m \u001b[1m277s\u001b[0m 2ms/step - accuracy: 0.9811 - loss: 220.9433 - val_accuracy: 0.9837 - val_loss: 38.8485\n",
            "Epoch 32/50\n",
            "\u001b[1m122791/122791\u001b[0m \u001b[32m━━━━━━━━━━━━━━━━━━━━\u001b[0m\u001b[37m\u001b[0m \u001b[1m244s\u001b[0m 2ms/step - accuracy: 0.9812 - loss: 216.8948 - val_accuracy: 0.9913 - val_loss: 480.0799\n",
            "Epoch 33/50\n",
            "\u001b[1m122791/122791\u001b[0m \u001b[32m━━━━━━━━━━━━━━━━━━━━\u001b[0m\u001b[37m\u001b[0m \u001b[1m292s\u001b[0m 2ms/step - accuracy: 0.9816 - loss: 213.7158 - val_accuracy: 0.9911 - val_loss: 396.8287\n",
            "Epoch 34/50\n",
            "\u001b[1m122791/122791\u001b[0m \u001b[32m━━━━━━━━━━━━━━━━━━━━\u001b[0m\u001b[37m\u001b[0m \u001b[1m275s\u001b[0m 2ms/step - accuracy: 0.9815 - loss: 216.5417 - val_accuracy: 0.9649 - val_loss: 16.6401\n",
            "Epoch 35/50\n",
            "\u001b[1m122791/122791\u001b[0m \u001b[32m━━━━━━━━━━━━━━━━━━━━\u001b[0m\u001b[37m\u001b[0m \u001b[1m272s\u001b[0m 2ms/step - accuracy: 0.9813 - loss: 220.1076 - val_accuracy: 0.9846 - val_loss: 33.3724\n",
            "Epoch 36/50\n",
            "\u001b[1m122791/122791\u001b[0m \u001b[32m━━━━━━━━━━━━━━━━━━━━\u001b[0m\u001b[37m\u001b[0m \u001b[1m303s\u001b[0m 2ms/step - accuracy: 0.9811 - loss: 215.4725 - val_accuracy: 0.9889 - val_loss: 68.6351\n",
            "Epoch 37/50\n",
            "\u001b[1m122791/122791\u001b[0m \u001b[32m━━━━━━━━━━━━━━━━━━━━\u001b[0m\u001b[37m\u001b[0m \u001b[1m252s\u001b[0m 2ms/step - accuracy: 0.9813 - loss: 210.4870 - val_accuracy: 0.9892 - val_loss: 77.9660\n",
            "Epoch 38/50\n",
            "\u001b[1m122791/122791\u001b[0m \u001b[32m━━━━━━━━━━━━━━━━━━━━\u001b[0m\u001b[37m\u001b[0m \u001b[1m290s\u001b[0m 2ms/step - accuracy: 0.9814 - loss: 217.1360 - val_accuracy: 0.9902 - val_loss: 169.3861\n",
            "Epoch 39/50\n",
            "\u001b[1m122791/122791\u001b[0m \u001b[32m━━━━━━━━━━━━━━━━━━━━\u001b[0m\u001b[37m\u001b[0m \u001b[1m252s\u001b[0m 2ms/step - accuracy: 0.9812 - loss: 214.1223 - val_accuracy: 0.9913 - val_loss: 414.7776\n",
            "Epoch 40/50\n",
            "\u001b[1m122791/122791\u001b[0m \u001b[32m━━━━━━━━━━━━━━━━━━━━\u001b[0m\u001b[37m\u001b[0m \u001b[1m251s\u001b[0m 2ms/step - accuracy: 0.9815 - loss: 216.0387 - val_accuracy: 0.9898 - val_loss: 98.3161\n",
            "Epoch 41/50\n",
            "\u001b[1m122791/122791\u001b[0m \u001b[32m━━━━━━━━━━━━━━━━━━━━\u001b[0m\u001b[37m\u001b[0m \u001b[1m285s\u001b[0m 2ms/step - accuracy: 0.9813 - loss: 217.9653 - val_accuracy: 0.9909 - val_loss: 272.7104\n",
            "Epoch 42/50\n",
            "\u001b[1m122791/122791\u001b[0m \u001b[32m━━━━━━━━━━━━━━━━━━━━\u001b[0m\u001b[37m\u001b[0m \u001b[1m251s\u001b[0m 2ms/step - accuracy: 0.9813 - loss: 212.0462 - val_accuracy: 0.9832 - val_loss: 28.5175\n",
            "Epoch 43/50\n",
            "\u001b[1m122791/122791\u001b[0m \u001b[32m━━━━━━━━━━━━━━━━━━━━\u001b[0m\u001b[37m\u001b[0m \u001b[1m250s\u001b[0m 2ms/step - accuracy: 0.9815 - loss: 220.6575 - val_accuracy: 0.9895 - val_loss: 74.5068\n",
            "Epoch 44/50\n",
            "\u001b[1m122791/122791\u001b[0m \u001b[32m━━━━━━━━━━━━━━━━━━━━\u001b[0m\u001b[37m\u001b[0m \u001b[1m255s\u001b[0m 2ms/step - accuracy: 0.9814 - loss: 217.5475 - val_accuracy: 0.9793 - val_loss: 22.7684\n",
            "Epoch 45/50\n",
            "\u001b[1m122791/122791\u001b[0m \u001b[32m━━━━━━━━━━━━━━━━━━━━\u001b[0m\u001b[37m\u001b[0m \u001b[1m246s\u001b[0m 2ms/step - accuracy: 0.9815 - loss: 210.6562 - val_accuracy: 0.9872 - val_loss: 43.1878\n",
            "Epoch 46/50\n",
            "\u001b[1m122791/122791\u001b[0m \u001b[32m━━━━━━━━━━━━━━━━━━━━\u001b[0m\u001b[37m\u001b[0m \u001b[1m291s\u001b[0m 2ms/step - accuracy: 0.9819 - loss: 214.8734 - val_accuracy: 0.2514 - val_loss: 786.0778\n",
            "Epoch 47/50\n",
            "\u001b[1m122791/122791\u001b[0m \u001b[32m━━━━━━━━━━━━━━━━━━━━\u001b[0m\u001b[37m\u001b[0m \u001b[1m315s\u001b[0m 2ms/step - accuracy: 0.9814 - loss: 217.0387 - val_accuracy: 0.9911 - val_loss: 370.9305\n",
            "Epoch 48/50\n",
            "\u001b[1m122791/122791\u001b[0m \u001b[32m━━━━━━━━━━━━━━━━━━━━\u001b[0m\u001b[37m\u001b[0m \u001b[1m230s\u001b[0m 2ms/step - accuracy: 0.9815 - loss: 214.7702 - val_accuracy: 0.9900 - val_loss: 119.6972\n",
            "Epoch 49/50\n",
            "\u001b[1m122791/122791\u001b[0m \u001b[32m━━━━━━━━━━━━━━━━━━━━\u001b[0m\u001b[37m\u001b[0m \u001b[1m262s\u001b[0m 2ms/step - accuracy: 0.9814 - loss: 218.0993 - val_accuracy: 0.9910 - val_loss: 340.5680\n",
            "Epoch 50/50\n",
            "\u001b[1m122791/122791\u001b[0m \u001b[32m━━━━━━━━━━━━━━━━━━━━\u001b[0m\u001b[37m\u001b[0m \u001b[1m270s\u001b[0m 2ms/step - accuracy: 0.9813 - loss: 220.3051 - val_accuracy: 0.9913 - val_loss: 585.0107\n",
            "\u001b[1m16446/16446\u001b[0m \u001b[32m━━━━━━━━━━━━━━━━━━━━\u001b[0m\u001b[37m\u001b[0m \u001b[1m20s\u001b[0m 1ms/step\n"
          ]
        }
      ]
    },
    {
      "cell_type": "code",
      "source": [
        "# Prevendo os rótulos do conjunto de teste\n",
        "y_pred_prob = model.predict(X_test)\n",
        "y_pred = (y_pred_prob > 0.5).astype(int)\n",
        "\n",
        "# Calculando a acurácia e F1-Score\n",
        "accuracy = (y_pred == y_test).mean()\n",
        "f1 = f1_score(y_test, y_pred)\n",
        "\n",
        "print(f'Accuracy: {accuracy}')\n",
        "print(f'F1-Score: {f1}')"
      ],
      "metadata": {
        "colab": {
          "base_uri": "https://localhost:8080/",
          "height": 211
        },
        "id": "Li1Z_rFHTDlZ",
        "outputId": "9f06f859-fb17-47f0-e0c4-976f708aaecb"
      },
      "execution_count": 1,
      "outputs": [
        {
          "output_type": "error",
          "ename": "NameError",
          "evalue": "name 'model' is not defined",
          "traceback": [
            "\u001b[0;31m---------------------------------------------------------------------------\u001b[0m",
            "\u001b[0;31mNameError\u001b[0m                                 Traceback (most recent call last)",
            "\u001b[0;32m<ipython-input-1-49050fb54932>\u001b[0m in \u001b[0;36m<cell line: 2>\u001b[0;34m()\u001b[0m\n\u001b[1;32m      1\u001b[0m \u001b[0;31m# Prevendo os rótulos do conjunto de teste\u001b[0m\u001b[0;34m\u001b[0m\u001b[0;34m\u001b[0m\u001b[0m\n\u001b[0;32m----> 2\u001b[0;31m \u001b[0my_pred_prob\u001b[0m \u001b[0;34m=\u001b[0m \u001b[0mmodel\u001b[0m\u001b[0;34m.\u001b[0m\u001b[0mpredict\u001b[0m\u001b[0;34m(\u001b[0m\u001b[0mX_test\u001b[0m\u001b[0;34m)\u001b[0m\u001b[0;34m\u001b[0m\u001b[0;34m\u001b[0m\u001b[0m\n\u001b[0m\u001b[1;32m      3\u001b[0m \u001b[0my_pred\u001b[0m \u001b[0;34m=\u001b[0m \u001b[0;34m(\u001b[0m\u001b[0my_pred_prob\u001b[0m \u001b[0;34m>\u001b[0m \u001b[0;36m0.5\u001b[0m\u001b[0;34m)\u001b[0m\u001b[0;34m.\u001b[0m\u001b[0mastype\u001b[0m\u001b[0;34m(\u001b[0m\u001b[0mint\u001b[0m\u001b[0;34m)\u001b[0m\u001b[0;34m\u001b[0m\u001b[0;34m\u001b[0m\u001b[0m\n\u001b[1;32m      4\u001b[0m \u001b[0;34m\u001b[0m\u001b[0m\n\u001b[1;32m      5\u001b[0m \u001b[0;31m# Calculando a acurácia e F1-Score\u001b[0m\u001b[0;34m\u001b[0m\u001b[0;34m\u001b[0m\u001b[0m\n",
            "\u001b[0;31mNameError\u001b[0m: name 'model' is not defined"
          ]
        }
      ]
    }
  ]
}