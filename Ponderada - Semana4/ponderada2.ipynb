{
  "nbformat": 4,
  "nbformat_minor": 0,
  "metadata": {
    "colab": {
      "provenance": []
    },
    "kernelspec": {
      "name": "python3",
      "display_name": "Python 3"
    },
    "language_info": {
      "name": "python"
    }
  },
  "cells": [
    {
      "cell_type": "markdown",
      "source": [
        "#Introdução\n",
        "\n",
        "O objetivo desta atividade é desenvolver uma rede neural para a prevenção de fraudes em cartões de crédito, ajustando seus hiperparâmetros para melhorar o desempenho do modelo. Para isso, utilizaremos um conjunto de dados de transações de cartões de crédito, disponível na biblioteca Keras. Durante a atividade, serão exploradas técnicas de ajuste de hiperparâmetros e avaliados os resultados obtidos com diferentes configurações de rede.\n",
        "\n",
        "\n",
        "OBS: para a ponderada eu inseri o arquivo com os dados no collab, para rodar o codigo, insira o arquivo e informe o caminho na parte de carregamento dos dadso"
      ],
      "metadata": {
        "id": "lcICfUMW-KRo"
      }
    },
    {
      "cell_type": "markdown",
      "source": [
        "##Preparando o ambiente"
      ],
      "metadata": {
        "id": "E2CG5IJN-uBz"
      }
    },
    {
      "cell_type": "code",
      "execution_count": 34,
      "metadata": {
        "id": "D1q1apwiHmj6"
      },
      "outputs": [],
      "source": [
        "import pandas as pd\n",
        "import numpy as np\n",
        "from tensorflow.keras.models import Sequential\n",
        "from tensorflow.keras.layers import Dense\n",
        "from sklearn.model_selection import train_test_split\n",
        "from sklearn.metrics import accuracy_score, recall_score, f1_score, roc_auc_score, confusion_matrix\n",
        "from sklearn.preprocessing import StandardScaler\n",
        "from sklearn.metrics import accuracy_score, recall_score, f1_score, roc_auc_score\n",
        "from keras.metrics import Precision, Recall, AUC\n"
      ]
    },
    {
      "cell_type": "markdown",
      "source": [
        "##Carregando os dados"
      ],
      "metadata": {
        "id": "froYzrZW-2Qi"
      }
    },
    {
      "cell_type": "code",
      "source": [
        "# Carregar os dados\n",
        "data = pd.read_csv('/content/creditcard.csv')\n"
      ],
      "metadata": {
        "id": "hGjmV-wN-z-O"
      },
      "execution_count": 35,
      "outputs": []
    },
    {
      "cell_type": "markdown",
      "source": [
        "##Preparando os dados\n",
        "\n",
        "Nesta etapa, é importante destacar que os dados já foram previamente tratados. Assim, a única preparação necessária será remover valores nulos (NaN) da coluna Class, que representa se a transação é fraudulenta ou não. Também fizemos a regularização das classes, esses procedimentos garantirão que os dados estejam prontos para treinar a rede neural de forma eficiente."
      ],
      "metadata": {
        "id": "vgiE9nNh-6Su"
      }
    },
    {
      "cell_type": "code",
      "source": [
        "#Dropnado os nan\n",
        "data = data.dropna(subset=['Class'])"
      ],
      "metadata": {
        "id": "biK9327xHpSH"
      },
      "execution_count": 36,
      "outputs": []
    },
    {
      "cell_type": "markdown",
      "source": [
        "###Dividindo os dados\n",
        "\n",
        "Nessa etapa estamos dividindo os dados para treino e teste, aqui separamos nossa coluna target e escolhemos usar 80% da base para treino e 20% para teste"
      ],
      "metadata": {
        "id": "3zdd4ACn_bhG"
      }
    },
    {
      "cell_type": "code",
      "source": [
        "X = data.drop('Class', axis=1)  # Features\n",
        "y = data['Class']  # Target\n",
        "\n",
        "\n",
        "# Dividir os dados\n",
        "X_train, X_test, y_train, y_test = train_test_split(X, y, test_size=0.2, stratify=y, random_state=42)\n"
      ],
      "metadata": {
        "id": "QBz9lxjo_a3R"
      },
      "execution_count": 37,
      "outputs": []
    },
    {
      "cell_type": "markdown",
      "source": [
        "###Regularização dos dados\n",
        "\n",
        "\n",
        "A regularização dos dados foi um passo crucial na análise, especialmente considerando o desbalanceamento nas classes do conjunto de dados. Diversas técnicas foram testadas para mitigar esse problema, incluindo a duplicação de classes menores e métodos de oversampling e undersampling. No entanto, nenhuma dessas abordagens trouxe resultados satisfatórios. A duplicação apenas replicou informações existentes, enquanto o undersampling reduziu a quantidade de dados disponíveis, e o oversampling resultou em redundâncias que limitaram o aprendizado do modelo.\n",
        "\n",
        "Diante do insucesso das técnicas iniciais, optamos por utilizar o SMOTE (Synthetic Minority Over-sampling Technique), que se mostrou mais eficaz ao gerar novas amostras sintéticas a partir das instâncias existentes, aumentando a diversidade do conjunto de dados. Embora o SMOTE tenha sido o método que mais se aproximou de um resultado esperado, ainda assim enfrentamos dificuldades em generalizar para as classes minoritárias, evidenciando que o desbalanceamento continuava a impactar negativamente a performance do modelo."
      ],
      "metadata": {
        "id": "0XMbY33GC0XZ"
      }
    },
    {
      "cell_type": "code",
      "source": [
        "from imblearn.over_sampling import SMOTE\n",
        "\n",
        "# Aplicar SMOTE para gerar amostras sintéticas da classe minoritária\n",
        "smote = SMOTE(random_state=42)\n",
        "X_train_resampled, y_train_resampled = (X_train, y_train)\n"
      ],
      "metadata": {
        "id": "Lxy9YaZwBs0V"
      },
      "execution_count": 38,
      "outputs": []
    },
    {
      "cell_type": "markdown",
      "source": [],
      "metadata": {
        "id": "LoJQVuhfBsTk"
      }
    },
    {
      "cell_type": "markdown",
      "source": [
        "##Modelo\n",
        "Nesta etapa, estamos criando a arquitetura do modelo inicial da rede neural. O modelo é composto por uma camada de entrada, duas camadas ocultas com 32 e 16 neurônios, respectivamente, e uma camada de saída com uma ativação sigmoide para prever a probabilidade de fraude. O modelo é compilado utilizando a função de perda binary_crossentropy, o otimizador adam e as métricas de avaliação incluem accuracy, Precision, Recall e AUC."
      ],
      "metadata": {
        "id": "sycZ9RjXAGrR"
      }
    },
    {
      "cell_type": "code",
      "source": [
        "from keras.layers import Dropout\n",
        "\n",
        "def create_custom_model(input_dim, neurons1=32, neurons2=16, dropout_rate=0.5, optimizer='adam'):\n",
        "    model = Sequential()\n",
        "    model.add(Dense(neurons1, input_dim=input_dim, activation='relu'))\n",
        "    model.add(Dropout(dropout_rate))  # Adicionando camada de Dropout após a primeira camada\n",
        "    model.add(Dense(neurons2, activation='relu'))\n",
        "    model.add(Dropout(dropout_rate))  # Adicionando camada de Dropout após a primeira camada\n",
        "\n",
        "    model.add(Dense(1, activation='sigmoid'))  # Saída com ativação sigmoide para prever probabilidade\n",
        "    model.compile(loss='binary_crossentropy', optimizer=optimizer, metrics=['accuracy', Precision(), Recall(), AUC(name='auc')])  # Incluindo as métricas no modelo\n",
        "\n",
        "    return model\n"
      ],
      "metadata": {
        "id": "VCrWdNemHubL"
      },
      "execution_count": 39,
      "outputs": []
    },
    {
      "cell_type": "markdown",
      "source": [
        "### Craindo modelo\n",
        "Nesta etapa, o modelo é criado utilizando 64 neurônios na primeira camada oculta e 32 na segunda, com o otimizador adam. O modelo é treinado com 15 épocas e um tamanho de lote de 10, utilizando os dados de treino e validação. Após o treinamento, as previsões são feitas sobre os dados de teste, e as métricas de desempenho são calculadas: acurácia, recall, F1-score e AUC-ROC, permitindo a avaliação da capacidade do modelo em detectar fraudes."
      ],
      "metadata": {
        "id": "9yfWg3K9AwRQ"
      }
    },
    {
      "cell_type": "code",
      "source": [
        "# Criar o modelo com os parâmetros ajustados\n",
        "model = create_custom_model(input_dim=X_train_resampled.shape[1], neurons1=64, neurons2=32, optimizer='adam')\n",
        "\n",
        "# Treinar o modelo com os dados balanceados\n",
        "model.fit(X_train_resampled, y_train_resampled, epochs=15, batch_size=10, validation_data=(X_test, y_test))\n",
        "\n",
        "# Avaliar o modelo\n",
        "y_pred_prob = model.predict(X_test)\n",
        "y_pred = (y_pred_prob > 0.5).astype(int)\n",
        "\n",
        "# Calcular as métricas\n",
        "accuracy = accuracy_score(y_test, y_pred)\n",
        "recall = recall_score(y_test, y_pred)\n",
        "f1 = f1_score(y_test, y_pred)\n",
        "roc_auc = roc_auc_score(y_test, y_pred_prob)\n",
        "\n",
        "print(\"Modelo Ajustado com OverSampling - Acurácia: {:.4f}, Recall: {:.4f}, F1-Score: {:.4f}, AUC-ROC: {:.4f}\".format(accuracy, recall, f1, roc_auc))"
      ],
      "metadata": {
        "colab": {
          "base_uri": "https://localhost:8080/"
        },
        "id": "AIzRZbDyHqq_",
        "outputId": "e0efa71d-145a-4fc8-cba9-422e8d2fa995"
      },
      "execution_count": 32,
      "outputs": [
        {
          "output_type": "stream",
          "name": "stderr",
          "text": [
            "/usr/local/lib/python3.10/dist-packages/keras/src/layers/core/dense.py:87: UserWarning: Do not pass an `input_shape`/`input_dim` argument to a layer. When using Sequential models, prefer using an `Input(shape)` object as the first layer in the model instead.\n",
            "  super().__init__(activity_regularizer=activity_regularizer, **kwargs)\n"
          ]
        },
        {
          "output_type": "stream",
          "name": "stdout",
          "text": [
            "Epoch 1/15\n",
            "\u001b[1m22785/22785\u001b[0m \u001b[32m━━━━━━━━━━━━━━━━━━━━\u001b[0m\u001b[37m\u001b[0m \u001b[1m68s\u001b[0m 3ms/step - accuracy: 0.9927 - auc: 0.5126 - loss: 53.8240 - precision_36: 0.0077 - recall_36: 0.0257 - val_accuracy: 0.9983 - val_auc: 0.5000 - val_loss: 0.0136 - val_precision_36: 0.0000e+00 - val_recall_36: 0.0000e+00\n",
            "Epoch 2/15\n",
            "\u001b[1m22785/22785\u001b[0m \u001b[32m━━━━━━━━━━━━━━━━━━━━\u001b[0m\u001b[37m\u001b[0m \u001b[1m61s\u001b[0m 3ms/step - accuracy: 0.9980 - auc: 0.4965 - loss: 0.1082 - precision_36: 0.0000e+00 - recall_36: 0.0000e+00 - val_accuracy: 0.9983 - val_auc: 0.5000 - val_loss: 0.0202 - val_precision_36: 0.0000e+00 - val_recall_36: 0.0000e+00\n",
            "Epoch 3/15\n",
            "\u001b[1m22785/22785\u001b[0m \u001b[32m━━━━━━━━━━━━━━━━━━━━\u001b[0m\u001b[37m\u001b[0m \u001b[1m78s\u001b[0m 3ms/step - accuracy: 0.9981 - auc: 0.4986 - loss: 0.1407 - precision_36: 0.0000e+00 - recall_36: 0.0000e+00 - val_accuracy: 0.9983 - val_auc: 0.5000 - val_loss: 0.0245 - val_precision_36: 0.0000e+00 - val_recall_36: 0.0000e+00\n",
            "Epoch 4/15\n",
            "\u001b[1m22785/22785\u001b[0m \u001b[32m━━━━━━━━━━━━━━━━━━━━\u001b[0m\u001b[37m\u001b[0m \u001b[1m60s\u001b[0m 3ms/step - accuracy: 0.9979 - auc: 0.4992 - loss: 0.0788 - precision_36: 4.7209e-04 - recall_36: 9.0549e-05 - val_accuracy: 0.9983 - val_auc: 0.5000 - val_loss: 0.0240 - val_precision_36: 0.0000e+00 - val_recall_36: 0.0000e+00\n",
            "Epoch 5/15\n",
            "\u001b[1m22785/22785\u001b[0m \u001b[32m━━━━━━━━━━━━━━━━━━━━\u001b[0m\u001b[37m\u001b[0m \u001b[1m58s\u001b[0m 3ms/step - accuracy: 0.9982 - auc: 0.4993 - loss: 0.0251 - precision_36: 0.0000e+00 - recall_36: 0.0000e+00 - val_accuracy: 0.9983 - val_auc: 0.5000 - val_loss: 0.0328 - val_precision_36: 0.0000e+00 - val_recall_36: 0.0000e+00\n",
            "Epoch 6/15\n",
            "\u001b[1m22785/22785\u001b[0m \u001b[32m━━━━━━━━━━━━━━━━━━━━\u001b[0m\u001b[37m\u001b[0m \u001b[1m82s\u001b[0m 3ms/step - accuracy: 0.9980 - auc: 0.4995 - loss: 0.0355 - precision_36: 0.0000e+00 - recall_36: 0.0000e+00 - val_accuracy: 0.9983 - val_auc: 0.5000 - val_loss: 0.0361 - val_precision_36: 0.0000e+00 - val_recall_36: 0.0000e+00\n",
            "Epoch 7/15\n",
            "\u001b[1m22785/22785\u001b[0m \u001b[32m━━━━━━━━━━━━━━━━━━━━\u001b[0m\u001b[37m\u001b[0m \u001b[1m81s\u001b[0m 3ms/step - accuracy: 0.9981 - auc: 0.4917 - loss: 0.1000 - precision_36: 0.0000e+00 - recall_36: 0.0000e+00 - val_accuracy: 0.9983 - val_auc: 0.5000 - val_loss: 0.0208 - val_precision_36: 0.0000e+00 - val_recall_36: 0.0000e+00\n",
            "Epoch 8/15\n",
            "\u001b[1m22785/22785\u001b[0m \u001b[32m━━━━━━━━━━━━━━━━━━━━\u001b[0m\u001b[37m\u001b[0m \u001b[1m85s\u001b[0m 3ms/step - accuracy: 0.9981 - auc: 0.4991 - loss: 0.0669 - precision_36: 0.0000e+00 - recall_36: 0.0000e+00 - val_accuracy: 0.9983 - val_auc: 0.5000 - val_loss: 0.0315 - val_precision_36: 0.0000e+00 - val_recall_36: 0.0000e+00\n",
            "Epoch 9/15\n",
            "\u001b[1m22785/22785\u001b[0m \u001b[32m━━━━━━━━━━━━━━━━━━━━\u001b[0m\u001b[37m\u001b[0m \u001b[1m62s\u001b[0m 3ms/step - accuracy: 0.9981 - auc: 0.4982 - loss: 0.0927 - precision_36: 0.0000e+00 - recall_36: 0.0000e+00 - val_accuracy: 0.9983 - val_auc: 0.5000 - val_loss: 0.0481 - val_precision_36: 0.0000e+00 - val_recall_36: 0.0000e+00\n",
            "Epoch 10/15\n",
            "\u001b[1m22785/22785\u001b[0m \u001b[32m━━━━━━━━━━━━━━━━━━━━\u001b[0m\u001b[37m\u001b[0m \u001b[1m62s\u001b[0m 3ms/step - accuracy: 0.9981 - auc: 0.4982 - loss: 0.0642 - precision_36: 0.0000e+00 - recall_36: 0.0000e+00 - val_accuracy: 0.9983 - val_auc: 0.5000 - val_loss: 0.0275 - val_precision_36: 0.0000e+00 - val_recall_36: 0.0000e+00\n",
            "Epoch 11/15\n",
            "\u001b[1m22785/22785\u001b[0m \u001b[32m━━━━━━━━━━━━━━━━━━━━\u001b[0m\u001b[37m\u001b[0m \u001b[1m62s\u001b[0m 3ms/step - accuracy: 0.9981 - auc: 0.4984 - loss: 0.0692 - precision_36: 0.0000e+00 - recall_36: 0.0000e+00 - val_accuracy: 0.9983 - val_auc: 0.5000 - val_loss: 0.0263 - val_precision_36: 0.0000e+00 - val_recall_36: 0.0000e+00\n",
            "Epoch 12/15\n",
            "\u001b[1m22785/22785\u001b[0m \u001b[32m━━━━━━━━━━━━━━━━━━━━\u001b[0m\u001b[37m\u001b[0m \u001b[1m65s\u001b[0m 3ms/step - accuracy: 0.9980 - auc: 0.4984 - loss: 0.0894 - precision_36: 0.0000e+00 - recall_36: 0.0000e+00 - val_accuracy: 0.9983 - val_auc: 0.5000 - val_loss: 0.0246 - val_precision_36: 0.0000e+00 - val_recall_36: 0.0000e+00\n",
            "Epoch 13/15\n",
            "\u001b[1m22785/22785\u001b[0m \u001b[32m━━━━━━━━━━━━━━━━━━━━\u001b[0m\u001b[37m\u001b[0m \u001b[1m58s\u001b[0m 3ms/step - accuracy: 0.9983 - auc: 0.4988 - loss: 0.0246 - precision_36: 0.0000e+00 - recall_36: 0.0000e+00 - val_accuracy: 0.9983 - val_auc: 0.5000 - val_loss: 0.0243 - val_precision_36: 0.0000e+00 - val_recall_36: 0.0000e+00\n",
            "Epoch 14/15\n",
            "\u001b[1m22785/22785\u001b[0m \u001b[32m━━━━━━━━━━━━━━━━━━━━\u001b[0m\u001b[37m\u001b[0m \u001b[1m90s\u001b[0m 3ms/step - accuracy: 0.9982 - auc: 0.5045 - loss: 0.0632 - precision_36: 0.0000e+00 - recall_36: 0.0000e+00 - val_accuracy: 0.9983 - val_auc: 0.5000 - val_loss: 0.0391 - val_precision_36: 0.0000e+00 - val_recall_36: 0.0000e+00\n",
            "Epoch 15/15\n",
            "\u001b[1m22785/22785\u001b[0m \u001b[32m━━━━━━━━━━━━━━━━━━━━\u001b[0m\u001b[37m\u001b[0m \u001b[1m77s\u001b[0m 3ms/step - accuracy: 0.9983 - auc: 0.4993 - loss: 0.0917 - precision_36: 0.0000e+00 - recall_36: 0.0000e+00 - val_accuracy: 0.9983 - val_auc: 0.5000 - val_loss: 0.0370 - val_precision_36: 0.0000e+00 - val_recall_36: 0.0000e+00\n",
            "\u001b[1m1781/1781\u001b[0m \u001b[32m━━━━━━━━━━━━━━━━━━━━\u001b[0m\u001b[37m\u001b[0m \u001b[1m3s\u001b[0m 2ms/step\n",
            "Modelo Ajustado com OverSampling - Acurácia: 0.9983, Recall: 0.0000, F1-Score: 0.0000, AUC-ROC: 0.4934\n"
          ]
        }
      ]
    },
    {
      "cell_type": "markdown",
      "source": [
        " ##Hiperparametrização\n",
        "\n",
        " Aqui, inicialmente foi tentado o uso do KerasClassifier para realizar a busca de hiperparâmetros, porém, devido a inúmeros erros na biblioteca, essa abordagem foi descartada. Como solução, foi implementado um loop manual para testar diferentes combinações de hiperparâmetros, incluindo a quantidade de neurônios nas camadas ocultas e o otimizador. Para cada combinação, o modelo foi criado e treinado, seguido do cálculo das métricas de desempenho, como acurácia, recall, F1-score e AUC-ROC. A melhor combinação de hiperparâmetros foi selecionada com base na maior acurácia obtida."
      ],
      "metadata": {
        "id": "5ka2dKzDBOpF"
      }
    },
    {
      "cell_type": "code",
      "source": [
        "from imblearn.over_sampling import RandomOverSampler\n",
        "\n",
        "# Definição dos hiperparâmetros a serem testados\n",
        "param_distributions = {\n",
        "    'neurons1': [8, 16 ],\n",
        "    'neurons2': [16, 32],\n",
        "    'optimizer': ['adam', 'sgd']\n",
        "}\n",
        "\n",
        "# Variáveis para armazenar os melhores resultados\n",
        "best_score = 0\n",
        "best_params = None\n",
        "best_metrics = {}\n",
        "\n",
        "# Aplicar o RandomOverSampler para balancear as classes\n",
        "ros = RandomOverSampler(random_state=42)\n",
        "X_train_resampled, y_train_resampled = ros.fit_resample(X_train, y_train)\n",
        "\n",
        "# Loop para testar diferentes combinações de hiperparâmetros\n",
        "for neurons1 in param_distributions['neurons1']:\n",
        "      for neurons2 in param_distributions['neurons2']:\n",
        "          for optimizer in param_distributions['optimizer']:\n",
        "            print(f\"Testando combinação: neurons1={neurons1}, neurons2={neurons2}, optimizer={optimizer}\")\n",
        "\n",
        "            # Criar e treinar o modelo com os dados balanceados\n",
        "            model = create_custom_model(input_dim=X_train_resampled.shape[1], neurons1=neurons1, neurons2=neurons2, optimizer=optimizer)\n",
        "            history = model.fit(X_train_resampled, y_train_resampled, epochs=10, batch_size=32, validation_data=(X_test, y_test), verbose=0)\n",
        "\n",
        "            # Previsão no conjunto de teste\n",
        "            y_pred_prob = model.predict(X_test)  # Probabilidades\n",
        "            y_pred = (y_pred_prob > 0.5).astype(int)  # Converte para classes binárias (0 ou 1)\n",
        "\n",
        "            # Calcular as métricas\n",
        "            accuracy = accuracy_score(y_test, y_pred)\n",
        "            recall = recall_score(y_test, y_pred)\n",
        "            f1 = f1_score(y_test, y_pred)\n",
        "            roc_auc = roc_auc_score(y_test, y_pred_prob)\n",
        "\n",
        "            print(f\"Validação - Acurácia: {accuracy:.4f}, Recall: {recall:.4f}, F1-Score: {f1:.4f}, AUC-ROC: {roc_auc:.4f}\")\n",
        "\n",
        "            # Comparar e armazenar o melhor modelo\n",
        "            if accuracy > best_score:\n",
        "                best_score = accuracy\n",
        "                best_params = {'neurons1': neurons1, 'neurons2': neurons2, 'optimizer': optimizer}\n",
        "                best_metrics = {'accuracy': accuracy, 'recall': recall, 'f1_score': f1, 'auc_roc': roc_auc}\n",
        "\n",
        "# Imprimir a melhor combinação de hiperparâmetros e suas métricas\n",
        "print(f\"Melhor Acurácia: {best_score} usando {best_params}\")\n",
        "print(f\"Melhores métricas: {best_metrics}\")\n"
      ],
      "metadata": {
        "colab": {
          "base_uri": "https://localhost:8080/"
        },
        "id": "QkU1vh_AHyQ0",
        "outputId": "22d066d5-224c-44fb-ceb8-a29c77b0ccac"
      },
      "execution_count": 33,
      "outputs": [
        {
          "output_type": "stream",
          "name": "stdout",
          "text": [
            "Testando combinação: neurons1=8, neurons2=16, optimizer=adam\n"
          ]
        },
        {
          "output_type": "stream",
          "name": "stderr",
          "text": [
            "/usr/local/lib/python3.10/dist-packages/keras/src/layers/core/dense.py:87: UserWarning: Do not pass an `input_shape`/`input_dim` argument to a layer. When using Sequential models, prefer using an `Input(shape)` object as the first layer in the model instead.\n",
            "  super().__init__(activity_regularizer=activity_regularizer, **kwargs)\n"
          ]
        },
        {
          "output_type": "stream",
          "name": "stdout",
          "text": [
            "\u001b[1m1781/1781\u001b[0m \u001b[32m━━━━━━━━━━━━━━━━━━━━\u001b[0m\u001b[37m\u001b[0m \u001b[1m2s\u001b[0m 1ms/step\n",
            "Validação - Acurácia: 0.9983, Recall: 0.0000, F1-Score: 0.0000, AUC-ROC: 0.4912\n",
            "Testando combinação: neurons1=8, neurons2=16, optimizer=sgd\n"
          ]
        },
        {
          "output_type": "stream",
          "name": "stderr",
          "text": [
            "/usr/local/lib/python3.10/dist-packages/keras/src/layers/core/dense.py:87: UserWarning: Do not pass an `input_shape`/`input_dim` argument to a layer. When using Sequential models, prefer using an `Input(shape)` object as the first layer in the model instead.\n",
            "  super().__init__(activity_regularizer=activity_regularizer, **kwargs)\n"
          ]
        },
        {
          "output_type": "stream",
          "name": "stdout",
          "text": [
            "\u001b[1m1781/1781\u001b[0m \u001b[32m━━━━━━━━━━━━━━━━━━━━\u001b[0m\u001b[37m\u001b[0m \u001b[1m3s\u001b[0m 2ms/step\n",
            "Validação - Acurácia: 0.9983, Recall: 0.0000, F1-Score: 0.0000, AUC-ROC: 0.5000\n",
            "Testando combinação: neurons1=8, neurons2=32, optimizer=adam\n"
          ]
        },
        {
          "output_type": "stream",
          "name": "stderr",
          "text": [
            "/usr/local/lib/python3.10/dist-packages/keras/src/layers/core/dense.py:87: UserWarning: Do not pass an `input_shape`/`input_dim` argument to a layer. When using Sequential models, prefer using an `Input(shape)` object as the first layer in the model instead.\n",
            "  super().__init__(activity_regularizer=activity_regularizer, **kwargs)\n"
          ]
        },
        {
          "output_type": "stream",
          "name": "stdout",
          "text": [
            "\u001b[1m1781/1781\u001b[0m \u001b[32m━━━━━━━━━━━━━━━━━━━━\u001b[0m\u001b[37m\u001b[0m \u001b[1m2s\u001b[0m 1ms/step\n",
            "Validação - Acurácia: 0.9983, Recall: 0.0000, F1-Score: 0.0000, AUC-ROC: 0.4919\n",
            "Testando combinação: neurons1=8, neurons2=32, optimizer=sgd\n"
          ]
        },
        {
          "output_type": "stream",
          "name": "stderr",
          "text": [
            "/usr/local/lib/python3.10/dist-packages/keras/src/layers/core/dense.py:87: UserWarning: Do not pass an `input_shape`/`input_dim` argument to a layer. When using Sequential models, prefer using an `Input(shape)` object as the first layer in the model instead.\n",
            "  super().__init__(activity_regularizer=activity_regularizer, **kwargs)\n"
          ]
        },
        {
          "output_type": "stream",
          "name": "stdout",
          "text": [
            "\u001b[1m1781/1781\u001b[0m \u001b[32m━━━━━━━━━━━━━━━━━━━━\u001b[0m\u001b[37m\u001b[0m \u001b[1m2s\u001b[0m 1ms/step\n",
            "Validação - Acurácia: 0.9983, Recall: 0.0000, F1-Score: 0.0000, AUC-ROC: 0.5000\n",
            "Testando combinação: neurons1=16, neurons2=16, optimizer=adam\n"
          ]
        },
        {
          "output_type": "stream",
          "name": "stderr",
          "text": [
            "/usr/local/lib/python3.10/dist-packages/keras/src/layers/core/dense.py:87: UserWarning: Do not pass an `input_shape`/`input_dim` argument to a layer. When using Sequential models, prefer using an `Input(shape)` object as the first layer in the model instead.\n",
            "  super().__init__(activity_regularizer=activity_regularizer, **kwargs)\n"
          ]
        },
        {
          "output_type": "stream",
          "name": "stdout",
          "text": [
            "\u001b[1m1781/1781\u001b[0m \u001b[32m━━━━━━━━━━━━━━━━━━━━\u001b[0m\u001b[37m\u001b[0m \u001b[1m2s\u001b[0m 1ms/step\n",
            "Validação - Acurácia: 0.9983, Recall: 0.0000, F1-Score: 0.0000, AUC-ROC: 0.4914\n",
            "Testando combinação: neurons1=16, neurons2=16, optimizer=sgd\n"
          ]
        },
        {
          "output_type": "stream",
          "name": "stderr",
          "text": [
            "/usr/local/lib/python3.10/dist-packages/keras/src/layers/core/dense.py:87: UserWarning: Do not pass an `input_shape`/`input_dim` argument to a layer. When using Sequential models, prefer using an `Input(shape)` object as the first layer in the model instead.\n",
            "  super().__init__(activity_regularizer=activity_regularizer, **kwargs)\n"
          ]
        },
        {
          "output_type": "stream",
          "name": "stdout",
          "text": [
            "\u001b[1m1781/1781\u001b[0m \u001b[32m━━━━━━━━━━━━━━━━━━━━\u001b[0m\u001b[37m\u001b[0m \u001b[1m2s\u001b[0m 1ms/step\n",
            "Validação - Acurácia: 0.0017, Recall: 1.0000, F1-Score: 0.0034, AUC-ROC: 0.5000\n",
            "Testando combinação: neurons1=16, neurons2=32, optimizer=adam\n"
          ]
        },
        {
          "output_type": "stream",
          "name": "stderr",
          "text": [
            "/usr/local/lib/python3.10/dist-packages/keras/src/layers/core/dense.py:87: UserWarning: Do not pass an `input_shape`/`input_dim` argument to a layer. When using Sequential models, prefer using an `Input(shape)` object as the first layer in the model instead.\n",
            "  super().__init__(activity_regularizer=activity_regularizer, **kwargs)\n"
          ]
        },
        {
          "output_type": "stream",
          "name": "stdout",
          "text": [
            "\u001b[1m1781/1781\u001b[0m \u001b[32m━━━━━━━━━━━━━━━━━━━━\u001b[0m\u001b[37m\u001b[0m \u001b[1m2s\u001b[0m 1ms/step\n",
            "Validação - Acurácia: 0.0055, Recall: 0.9796, F1-Score: 0.0034, AUC-ROC: 0.4917\n",
            "Testando combinação: neurons1=16, neurons2=32, optimizer=sgd\n"
          ]
        },
        {
          "output_type": "stream",
          "name": "stderr",
          "text": [
            "/usr/local/lib/python3.10/dist-packages/keras/src/layers/core/dense.py:87: UserWarning: Do not pass an `input_shape`/`input_dim` argument to a layer. When using Sequential models, prefer using an `Input(shape)` object as the first layer in the model instead.\n",
            "  super().__init__(activity_regularizer=activity_regularizer, **kwargs)\n"
          ]
        },
        {
          "output_type": "stream",
          "name": "stdout",
          "text": [
            "\u001b[1m1781/1781\u001b[0m \u001b[32m━━━━━━━━━━━━━━━━━━━━\u001b[0m\u001b[37m\u001b[0m \u001b[1m2s\u001b[0m 1ms/step\n",
            "Validação - Acurácia: 0.9983, Recall: 0.0000, F1-Score: 0.0000, AUC-ROC: 0.5000\n",
            "Melhor Acurácia: 0.9982795547909132 usando {'neurons1': 8, 'neurons2': 16, 'optimizer': 'adam'}\n",
            "Melhores métricas: {'accuracy': 0.9982795547909132, 'recall': 0.0, 'f1_score': 0.0, 'auc_roc': 0.49119381151447633}\n"
          ]
        }
      ]
    },
    {
      "cell_type": "markdown",
      "source": [
        "##Conclusão\n",
        "\n",
        "Ao comparar os resultados com e sem o uso de hiperparâmetros ajustados, é possível observar que, embora o desempenho não tenha sido o ideal, o objetivo principal foi alcançado. Com os hiperparâmetros aplicados, o modelo apresentou uma acurácia de 0.9983, mas com recall e F1-score em 0.0, o que indica que o ajuste não conseguiu melhorar a detecção das classes minoritárias. O AUC-ROC também não apresentou grande melhora, passando de 0.4912 para 0.4934, sugerindo que o modelo ainda enfrenta dificuldades em diferenciar adequadamente as classes.\n",
        "\n",
        "Apesar de os resultados finais não terem atingido o nível esperado, o mais importante foi a aplicação e compreensão dos hiperparâmetros e técnicas de regularização, como o SMOTE. Esse processo foi fundamental para absorver o conhecimento necessário sobre ajustes de modelos e tratamento de dados desbalanceados, proporcionando um aprendizado significativo, mesmo sem alcançar métricas ideais."
      ],
      "metadata": {
        "id": "T4YRos_7SYta"
      }
    },
    {
      "cell_type": "code",
      "source": [],
      "metadata": {
        "id": "krArGYXb7kax"
      },
      "execution_count": 33,
      "outputs": []
    }
  ]
}